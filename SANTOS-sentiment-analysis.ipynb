{
 "cells": [
  {
   "cell_type": "markdown",
   "metadata": {},
   "source": [
    "# Text Analysis of IMDB Movie Reviews using NLTK\n",
    "This project shows the 15 most common nouns and adjectives found in the IMDB reviews for the movie 'The Fault In Our Stars', and provides a sentiment analysis as well. \n",
    "\n",
    "- MIS3640 Spring 2021 \n",
    "- Homework 2 \n",
    "- March 17, 2021\n",
    "\n",
    "- Submitted by: Abegail Santos"
   ]
  },
  {
   "cell_type": "markdown",
   "metadata": {},
   "source": [
    "## Getting the details of the movie: title and reviews in IMDB"
   ]
  },
  {
   "cell_type": "code",
   "execution_count": 73,
   "metadata": {
    "ExecuteTime": {
     "end_time": "2021-03-18T01:19:10.815752Z",
     "start_time": "2021-03-18T01:19:10.812291Z"
    }
   },
   "outputs": [],
   "source": [
    "import imdbpie\n",
    "import pprint\n",
    "imdb = imdbpie.Imdb()"
   ]
  },
  {
   "cell_type": "code",
   "execution_count": 74,
   "metadata": {
    "ExecuteTime": {
     "end_time": "2021-03-18T01:19:10.820098Z",
     "start_time": "2021-03-18T01:19:10.817759Z"
    }
   },
   "outputs": [],
   "source": [
    "movie_id = 'tt2582846' #IMDB ID of The Fault in Our Stars"
   ]
  },
  {
   "cell_type": "code",
   "execution_count": 75,
   "metadata": {
    "ExecuteTime": {
     "end_time": "2021-03-18T01:19:14.053888Z",
     "start_time": "2021-03-18T01:19:10.821896Z"
    }
   },
   "outputs": [
    {
     "data": {
      "text/plain": [
       "'The Fault in Our Stars'"
      ]
     },
     "execution_count": 75,
     "metadata": {},
     "output_type": "execute_result"
    }
   ],
   "source": [
    "def get_movie_title(movie_id):\n",
    "    title = imdb.get_title(movie_id)['base']['title']\n",
    "    return title\n",
    "\n",
    "get_movie_title(movie_id)"
   ]
  },
  {
   "cell_type": "code",
   "execution_count": null,
   "metadata": {
    "ExecuteTime": {
     "end_time": "2021-03-18T01:19:16.356274Z",
     "start_time": "2021-03-18T01:19:14.055852Z"
    }
   },
   "outputs": [],
   "source": [
    "reviews_list = []\n",
    "def get_movie_reviews(movie_id):\n",
    "    reviews = imdb.get_title_user_reviews(movie_id)\n",
    "    for review in reviews['reviews']:\n",
    "        reviews_list.append(review['reviewText']) #get all review text in the IMBD review section\n",
    "    pprint.pprint(reviews_list)\n",
    "    return reviews_list \n",
    "\n",
    "get_movie_reviews('tt2582846')\n",
    "print(reviews_list) #test"
   ]
  },
  {
   "cell_type": "markdown",
   "metadata": {},
   "source": [
    "## Data preparation\n",
    "### Tokenization\n",
    "Tokenization in NLP is the process by which a large quantity of text is divided into smaller parts called tokens"
   ]
  },
  {
   "cell_type": "code",
   "execution_count": null,
   "metadata": {
    "ExecuteTime": {
     "end_time": "2021-03-18T01:19:16.388649Z",
     "start_time": "2021-03-18T01:19:16.357821Z"
    }
   },
   "outputs": [],
   "source": [
    "tokenized_sents = []\n",
    "def tokenize_sentence(review_list):\n",
    "    \"\"\"\n",
    "    This function performs tokenization for the reviews. \n",
    "    \"\"\"\n",
    "    from nltk import sent_tokenize\n",
    "    \n",
    "    for sentence in review_list:\n",
    "        tokenized_sentences = sent_tokenize(sentence) #divide the reviews into separate paragraphs\n",
    "        tokenized_sents.append(tokenized_sentences)\n",
    "    return tokenized_sents\n",
    "\n",
    "tokenize_sentence(reviews_list)\n",
    "print(tokenized_sents) #test"
   ]
  },
  {
   "cell_type": "code",
   "execution_count": null,
   "metadata": {
    "ExecuteTime": {
     "end_time": "2021-03-18T01:19:16.405004Z",
     "start_time": "2021-03-18T01:19:16.391270Z"
    }
   },
   "outputs": [],
   "source": [
    "all_sentences = []\n",
    "def split_paragraphs(tokenized_list):\n",
    "    \"\"\"\n",
    "    This function splits each review into single sentences and appends \n",
    "    each sentence to the 'all_sentences' list\n",
    "    \"\"\"\n",
    "    for paragraphs in tokenized_list:\n",
    "        for sentences in paragraphs:\n",
    "            all_sentences.append(sentences)\n",
    "\n",
    "split_paragraphs(tokenized_sents)\n",
    "print(all_sentences) #test"
   ]
  },
  {
   "cell_type": "markdown",
   "metadata": {},
   "source": [
    "### Data cleaning: removing stop words and punctuation from the sentences \n",
    "#### First, we have to create a list of stop words and punctuation"
   ]
  },
  {
   "cell_type": "code",
   "execution_count": null,
   "metadata": {
    "ExecuteTime": {
     "end_time": "2021-03-18T01:19:16.420806Z",
     "start_time": "2021-03-18T01:19:16.407154Z"
    }
   },
   "outputs": [],
   "source": [
    "stopwords_with_punctuation = []\n",
    "def get_stopwords_with_punctuation():\n",
    "    from nltk.corpus import stopwords\n",
    "    stop_words = set(stopwords.words('english'))\n",
    "\n",
    "    from string import punctuation\n",
    "\n",
    "    for i in stop_words.union(set(punctuation)):\n",
    "        stopwords_with_punctuation.append(i)\n",
    "    \n",
    "    more_punctuations = [\"'s\",\"n't\",\"''\",\"...\",\"'ve'\",\"``\",\"-\",\"–\",\"'m\"] #additional punctuations that need to be removed\n",
    "    for i in more_punctuations:\n",
    "        stopwords_with_punctuation.append(i)\n",
    "\n",
    "get_stopwords_with_punctuation()\n",
    "print(stopwords_with_punctuation) #test"
   ]
  },
  {
   "cell_type": "markdown",
   "metadata": {},
   "source": [
    "#### Second, we have to separate all the sentences into words"
   ]
  },
  {
   "cell_type": "code",
   "execution_count": null,
   "metadata": {
    "ExecuteTime": {
     "end_time": "2021-03-18T01:19:16.481134Z",
     "start_time": "2021-03-18T01:19:16.423548Z"
    }
   },
   "outputs": [],
   "source": [
    "import string \n",
    "from nltk.tokenize import word_tokenize\n",
    "\n",
    "def separate_words(list_sentence):\n",
    "    \"\"\"\n",
    "    This function separates the words in all the sentences.\n",
    "    \"\"\"\n",
    "    joint_words = ' '.join(list_sentence)\n",
    "    separated_words = word_tokenize(joint_words) #separate all the sentences into individual words\n",
    "    return separated_words\n",
    "\n",
    "separated_words_list = separate_words(all_sentences)\n",
    "print(len(separated_words_list))\n",
    "print(separated_words_list) #test"
   ]
  },
  {
   "cell_type": "markdown",
   "metadata": {},
   "source": [
    "#### Third, we have to create a filtered word list by identifying the stopwords and punctuation in the separated words list, and not including it in the new filtered word list."
   ]
  },
  {
   "cell_type": "code",
   "execution_count": null,
   "metadata": {
    "ExecuteTime": {
     "end_time": "2021-03-18T01:51:15.420747Z",
     "start_time": "2021-03-18T01:51:15.370547Z"
    },
    "scrolled": true
   },
   "outputs": [],
   "source": [
    "filtered_word_list = []\n",
    "def filter_words(words_list):\n",
    "    \"\"\"\n",
    "    This function transforms all the words in 'words_list' in lowercase\n",
    "    and adds those that are not included in the\n",
    "    'stopwords_with_punctuation' to the 'filtered_word_list'\n",
    "    \"\"\"\n",
    "    for word in words_list:\n",
    "        word = word.lower() #make all words in lowercase \n",
    "        if word not in stopwords_with_punctuation:\n",
    "            filtered_word_list.append(word) #only adds to the list if the words are not stop words and punctuations\n",
    "\n",
    "filter_words(separated_words_list)\n",
    "print(len(filtered_word_list))\n",
    "print(filtered_word_list) #test"
   ]
  },
  {
   "cell_type": "markdown",
   "metadata": {},
   "source": [
    "### Identifying Parts-of-speech tag for each word"
   ]
  },
  {
   "cell_type": "code",
   "execution_count": null,
   "metadata": {
    "ExecuteTime": {
     "end_time": "2021-03-18T01:51:17.966958Z",
     "start_time": "2021-03-18T01:51:17.175165Z"
    }
   },
   "outputs": [],
   "source": [
    "pos_tag_words_list = []\n",
    "def pos_tag_words(word_list):\n",
    "    \"\"\"\n",
    "    This function assigns each word in word_list to part-of-speech tags\n",
    "    \n",
    "    Part of speech tags:\n",
    "    Cardinal number = CD\n",
    "    Verb = VB, VBD, VBG, VBN,\n",
    "    Adjective = JJ, JJR, JJS\n",
    "    Noun = NN, NNS, NNP, NNPS\n",
    "    ... and the list goes on\n",
    "    \"\"\"\n",
    "    from nltk import pos_tag  \n",
    "    \n",
    "    for word in word_list:\n",
    "        tokenized_word = word_tokenize(word)\n",
    "        tagged_words = pos_tag(tokenized_word)\n",
    "        pos_tag_words_list.extend(tagged_words) #adds the word:pos-tag pair to a list\n",
    "\n",
    "pos_tag_words(filtered_word_list)\n",
    "print(pos_tag_words_list) #test"
   ]
  },
  {
   "cell_type": "markdown",
   "metadata": {
    "ExecuteTime": {
     "end_time": "2021-03-17T23:59:12.134955Z",
     "start_time": "2021-03-17T23:59:12.131301Z"
    }
   },
   "source": [
    "## Data analysis and visualization\n",
    "### 15 most common nouns in the IMDB  reviews for The Fault in Our Stars "
   ]
  },
  {
   "cell_type": "code",
   "execution_count": 92,
   "metadata": {
    "ExecuteTime": {
     "end_time": "2021-03-18T01:51:21.840983Z",
     "start_time": "2021-03-18T01:51:21.682942Z"
    }
   },
   "outputs": [
    {
     "data": {
      "image/png": "[encoded data removed]",
      "text/plain": [
       "<Figure size 432x288 with 1 Axes>"
      ]
     },
     "metadata": {
      "needs_background": "light"
     },
     "output_type": "display_data"
    }
   ],
   "source": [
    "def most_common_nouns(word_list):\n",
    "    \"\"\"\n",
    "    This function displays the frequency distribution for 30 most common\n",
    "    nouns found in the movie reviews.\n",
    "    \"\"\"\n",
    "    nouns = [] #list containing all the nouns in the reviews\n",
    "    nouns = [word for (word, pos) in word_list if (pos == 'NN' or pos == 'NNS')] \n",
    "\n",
    "    from nltk.probability import FreqDist\n",
    "    fdist = FreqDist(nouns) #counts the frequency of each noun\n",
    "    fdist.plot(15,title='Frequency distribution for 15 most common nouns in the reviews') #displays the plot\n",
    "\n",
    "most_common_nouns(pos_tag_words_list)"
   ]
  },
  {
   "cell_type": "markdown",
   "metadata": {},
   "source": [
    "### 15 most common adjectives in the IMDB  reviews for The Fault in Our Stars "
   ]
  },
  {
   "cell_type": "code",
   "execution_count": 93,
   "metadata": {
    "ExecuteTime": {
     "end_time": "2021-03-18T01:51:24.851068Z",
     "start_time": "2021-03-18T01:51:24.659387Z"
    }
   },
   "outputs": [
    {
     "data": {
      "image/png": "[encoded data removed]",
      "text/plain": [
       "<Figure size 432x288 with 1 Axes>"
      ]
     },
     "metadata": {
      "needs_background": "light"
     },
     "output_type": "display_data"
    }
   ],
   "source": [
    "def most_common_adjectives(word_list):\n",
    "    \"\"\"\n",
    "    This function displays the frequency distribution for 30 most common\n",
    "    adjectives found in the movie reviews.\n",
    "    \"\"\"\n",
    "    adjectives = [] #list containing all the adjectives in the reviews\n",
    "    adjectives = [word for (word, pos) in word_list if (pos == 'JJ' or pos == 'JJR' or pos == 'JJS')] \n",
    "\n",
    "    from nltk.probability import FreqDist\n",
    "    fdist = FreqDist(adjectives) #counts the frequency of each adjective\n",
    "    fdist.plot(15,title='Frequency distribution for 15 most common adjectives in the reviews') #displays the plot\n",
    "\n",
    "most_common_adjectives(pos_tag_words_list)"
   ]
  },
  {
   "cell_type": "markdown",
   "metadata": {},
   "source": [
    "### Sentiment analysis for the IMDB review of The Fault in Our Stars"
   ]
  },
  {
   "cell_type": "code",
   "execution_count": 87,
   "metadata": {
    "ExecuteTime": {
     "end_time": "2021-03-18T01:19:55.646190Z",
     "start_time": "2021-03-18T01:19:47.457519Z"
    }
   },
   "outputs": [
    {
     "data": {
      "text/html": [
       "<div>\n",
       "<style scoped>\n",
       "    .dataframe tbody tr th:only-of-type {\n",
       "        vertical-align: middle;\n",
       "    }\n",
       "\n",
       "    .dataframe tbody tr th {\n",
       "        vertical-align: top;\n",
       "    }\n",
       "\n",
       "    .dataframe thead th {\n",
       "        text-align: right;\n",
       "    }\n",
       "</style>\n",
       "<table border=\"1\" class=\"dataframe\">\n",
       "  <thead>\n",
       "    <tr style=\"text-align: right;\">\n",
       "      <th></th>\n",
       "      <th>reviews</th>\n",
       "      <th>title</th>\n",
       "      <th>pos</th>\n",
       "      <th>neu</th>\n",
       "      <th>neg</th>\n",
       "      <th>compound</th>\n",
       "    </tr>\n",
       "  </thead>\n",
       "  <tbody>\n",
       "    <tr>\n",
       "      <th>0</th>\n",
       "      <td>One of the best romance movies I have ever see...</td>\n",
       "      <td>The Fault in Our Stars</td>\n",
       "      <td>0.403</td>\n",
       "      <td>0.597</td>\n",
       "      <td>0.0</td>\n",
       "      <td>0.8957</td>\n",
       "    </tr>\n",
       "    <tr>\n",
       "      <th>1</th>\n",
       "      <td>I loved the book and I loved the movie even more.</td>\n",
       "      <td>The Fault in Our Stars</td>\n",
       "      <td>0.527</td>\n",
       "      <td>0.473</td>\n",
       "      <td>0.0</td>\n",
       "      <td>0.8316</td>\n",
       "    </tr>\n",
       "    <tr>\n",
       "      <th>2</th>\n",
       "      <td>The writing, plot, story, and screenplay were ...</td>\n",
       "      <td>The Fault in Our Stars</td>\n",
       "      <td>0.340</td>\n",
       "      <td>0.660</td>\n",
       "      <td>0.0</td>\n",
       "      <td>0.5574</td>\n",
       "    </tr>\n",
       "    <tr>\n",
       "      <th>3</th>\n",
       "      <td>Shaileen Woodley and Ansel Elgort's performanc...</td>\n",
       "      <td>The Fault in Our Stars</td>\n",
       "      <td>0.000</td>\n",
       "      <td>1.000</td>\n",
       "      <td>0.0</td>\n",
       "      <td>0.0000</td>\n",
       "    </tr>\n",
       "    <tr>\n",
       "      <th>4</th>\n",
       "      <td>The Fault in Our Stars is gorgeous, funny and ...</td>\n",
       "      <td>The Fault in Our Stars</td>\n",
       "      <td>0.375</td>\n",
       "      <td>0.425</td>\n",
       "      <td>0.2</td>\n",
       "      <td>0.7906</td>\n",
       "    </tr>\n",
       "    <tr>\n",
       "      <th>...</th>\n",
       "      <td>...</td>\n",
       "      <td>...</td>\n",
       "      <td>...</td>\n",
       "      <td>...</td>\n",
       "      <td>...</td>\n",
       "      <td>...</td>\n",
       "    </tr>\n",
       "    <tr>\n",
       "      <th>382</th>\n",
       "      <td>The only moment that was a bit moving was when...</td>\n",
       "      <td>The Fault in Our Stars</td>\n",
       "      <td>0.000</td>\n",
       "      <td>1.000</td>\n",
       "      <td>0.0</td>\n",
       "      <td>0.0000</td>\n",
       "    </tr>\n",
       "    <tr>\n",
       "      <th>383</th>\n",
       "      <td>But even that wasn't connected emotionally to ...</td>\n",
       "      <td>The Fault in Our Stars</td>\n",
       "      <td>0.000</td>\n",
       "      <td>1.000</td>\n",
       "      <td>0.0</td>\n",
       "      <td>0.0000</td>\n",
       "    </tr>\n",
       "    <tr>\n",
       "      <th>384</th>\n",
       "      <td>I can list a hundred movies that are WAY more ...</td>\n",
       "      <td>The Fault in Our Stars</td>\n",
       "      <td>0.063</td>\n",
       "      <td>0.937</td>\n",
       "      <td>0.0</td>\n",
       "      <td>0.2247</td>\n",
       "    </tr>\n",
       "    <tr>\n",
       "      <th>385</th>\n",
       "      <td>I know cigarettes eventually PUT you in the co...</td>\n",
       "      <td>The Fault in Our Stars</td>\n",
       "      <td>0.000</td>\n",
       "      <td>1.000</td>\n",
       "      <td>0.0</td>\n",
       "      <td>0.0000</td>\n",
       "    </tr>\n",
       "    <tr>\n",
       "      <th>386</th>\n",
       "      <td>I wonder what message they wanted to convey to...</td>\n",
       "      <td>The Fault in Our Stars</td>\n",
       "      <td>0.000</td>\n",
       "      <td>1.000</td>\n",
       "      <td>0.0</td>\n",
       "      <td>0.0000</td>\n",
       "    </tr>\n",
       "  </tbody>\n",
       "</table>\n",
       "<p>387 rows × 6 columns</p>\n",
       "</div>"
      ],
      "text/plain": [
       "                                               reviews  \\\n",
       "0    One of the best romance movies I have ever see...   \n",
       "1    I loved the book and I loved the movie even more.   \n",
       "2    The writing, plot, story, and screenplay were ...   \n",
       "3    Shaileen Woodley and Ansel Elgort's performanc...   \n",
       "4    The Fault in Our Stars is gorgeous, funny and ...   \n",
       "..                                                 ...   \n",
       "382  The only moment that was a bit moving was when...   \n",
       "383  But even that wasn't connected emotionally to ...   \n",
       "384  I can list a hundred movies that are WAY more ...   \n",
       "385  I know cigarettes eventually PUT you in the co...   \n",
       "386  I wonder what message they wanted to convey to...   \n",
       "\n",
       "                      title    pos    neu  neg  compound  \n",
       "0    The Fault in Our Stars  0.403  0.597  0.0    0.8957  \n",
       "1    The Fault in Our Stars  0.527  0.473  0.0    0.8316  \n",
       "2    The Fault in Our Stars  0.340  0.660  0.0    0.5574  \n",
       "3    The Fault in Our Stars  0.000  1.000  0.0    0.0000  \n",
       "4    The Fault in Our Stars  0.375  0.425  0.2    0.7906  \n",
       "..                      ...    ...    ...  ...       ...  \n",
       "382  The Fault in Our Stars  0.000  1.000  0.0    0.0000  \n",
       "383  The Fault in Our Stars  0.000  1.000  0.0    0.0000  \n",
       "384  The Fault in Our Stars  0.063  0.937  0.0    0.2247  \n",
       "385  The Fault in Our Stars  0.000  1.000  0.0    0.0000  \n",
       "386  The Fault in Our Stars  0.000  1.000  0.0    0.0000  \n",
       "\n",
       "[387 rows x 6 columns]"
      ]
     },
     "execution_count": 87,
     "metadata": {},
     "output_type": "execute_result"
    }
   ],
   "source": [
    "def df_sentiment_analysis(sentences):\n",
    "    from nltk.sentiment.vader import SentimentIntensityAnalyzer\n",
    "    analyzer = SentimentIntensityAnalyzer()\n",
    "    \n",
    "    import pandas as pd\n",
    "    df = pd.DataFrame({'reviews': all_sentences}) #create a dataframe \n",
    "    df = df.assign(title=get_movie_title(movie_id))\n",
    "    \n",
    "    #get sentiment scores for each sentence in the movie reviews \n",
    "    df['pos'] = df['reviews'].apply(lambda x:analyzer.polarity_scores(x)['pos']) #positive sentiment score for the sentence\n",
    "    df['neu'] = df['reviews'].apply(lambda x:analyzer.polarity_scores(x)['neu']) #neutral sentiment score for the sentence\n",
    "    df['neg'] = df['reviews'].apply(lambda x:analyzer.polarity_scores(x)['neg']) #negative sentiment score for the sentence\n",
    "    df['compound'] = df['reviews'].apply(lambda x:analyzer.polarity_scores(x)['compound']) #compound sentiment score for the sentence\n",
    "    return df\n",
    "\n",
    "df_sentiment_analysis(tokenized_sents)\n",
    "sentiment_analysis = df_sentiment_analysis(tokenized_sents)"
   ]
  },
  {
   "cell_type": "code",
   "execution_count": 86,
   "metadata": {
    "ExecuteTime": {
     "end_time": "2021-03-18T01:19:21.900216Z",
     "start_time": "2021-03-18T01:19:21.870056Z"
    }
   },
   "outputs": [
    {
     "data": {
      "text/html": [
       "<div>\n",
       "<style scoped>\n",
       "    .dataframe tbody tr th:only-of-type {\n",
       "        vertical-align: middle;\n",
       "    }\n",
       "\n",
       "    .dataframe tbody tr th {\n",
       "        vertical-align: top;\n",
       "    }\n",
       "\n",
       "    .dataframe thead th {\n",
       "        text-align: right;\n",
       "    }\n",
       "</style>\n",
       "<table border=\"1\" class=\"dataframe\">\n",
       "  <thead>\n",
       "    <tr style=\"text-align: right;\">\n",
       "      <th></th>\n",
       "      <th>pos</th>\n",
       "      <th>neu</th>\n",
       "      <th>neg</th>\n",
       "      <th>compound</th>\n",
       "    </tr>\n",
       "  </thead>\n",
       "  <tbody>\n",
       "    <tr>\n",
       "      <th>count</th>\n",
       "      <td>387.000000</td>\n",
       "      <td>387.000000</td>\n",
       "      <td>387.000000</td>\n",
       "      <td>387.000000</td>\n",
       "    </tr>\n",
       "    <tr>\n",
       "      <th>mean</th>\n",
       "      <td>0.149530</td>\n",
       "      <td>0.766134</td>\n",
       "      <td>0.084331</td>\n",
       "      <td>0.114688</td>\n",
       "    </tr>\n",
       "    <tr>\n",
       "      <th>std</th>\n",
       "      <td>0.171789</td>\n",
       "      <td>0.183618</td>\n",
       "      <td>0.119111</td>\n",
       "      <td>0.479368</td>\n",
       "    </tr>\n",
       "    <tr>\n",
       "      <th>min</th>\n",
       "      <td>0.000000</td>\n",
       "      <td>0.000000</td>\n",
       "      <td>0.000000</td>\n",
       "      <td>-0.946000</td>\n",
       "    </tr>\n",
       "    <tr>\n",
       "      <th>25%</th>\n",
       "      <td>0.000000</td>\n",
       "      <td>0.650000</td>\n",
       "      <td>0.000000</td>\n",
       "      <td>-0.160400</td>\n",
       "    </tr>\n",
       "    <tr>\n",
       "      <th>50%</th>\n",
       "      <td>0.118000</td>\n",
       "      <td>0.769000</td>\n",
       "      <td>0.000000</td>\n",
       "      <td>0.000000</td>\n",
       "    </tr>\n",
       "    <tr>\n",
       "      <th>75%</th>\n",
       "      <td>0.241500</td>\n",
       "      <td>0.914500</td>\n",
       "      <td>0.150000</td>\n",
       "      <td>0.541700</td>\n",
       "    </tr>\n",
       "    <tr>\n",
       "      <th>max</th>\n",
       "      <td>1.000000</td>\n",
       "      <td>1.000000</td>\n",
       "      <td>0.530000</td>\n",
       "      <td>0.960000</td>\n",
       "    </tr>\n",
       "  </tbody>\n",
       "</table>\n",
       "</div>"
      ],
      "text/plain": [
       "              pos         neu         neg    compound\n",
       "count  387.000000  387.000000  387.000000  387.000000\n",
       "mean     0.149530    0.766134    0.084331    0.114688\n",
       "std      0.171789    0.183618    0.119111    0.479368\n",
       "min      0.000000    0.000000    0.000000   -0.946000\n",
       "25%      0.000000    0.650000    0.000000   -0.160400\n",
       "50%      0.118000    0.769000    0.000000    0.000000\n",
       "75%      0.241500    0.914500    0.150000    0.541700\n",
       "max      1.000000    1.000000    0.530000    0.960000"
      ]
     },
     "execution_count": 86,
     "metadata": {},
     "output_type": "execute_result"
    }
   ],
   "source": [
    "def descriptive_stat(df):\n",
    "    return df.describe() #get the descriptive statistics for all the sentiment scores\n",
    "\n",
    "descriptive_stat(sentiment_analysis)"
   ]
  }
 ],
 "metadata": {
  "kernelspec": {
   "display_name": "Python 3",
   "language": "python",
   "name": "python3"
  },
  "language_info": {
   "codemirror_mode": {
    "name": "ipython",
    "version": 3
   },
   "file_extension": ".py",
   "mimetype": "text/x-python",
   "name": "python",
   "nbconvert_exporter": "python",
   "pygments_lexer": "ipython3",
   "version": "3.8.3"
  },
  "toc": {
   "base_numbering": 1,
   "nav_menu": {},
   "number_sections": true,
   "sideBar": true,
   "skip_h1_title": false,
   "title_cell": "Table of Contents",
   "title_sidebar": "Contents",
   "toc_cell": false,
   "toc_position": {},
   "toc_section_display": true,
   "toc_window_display": false
  },
  "varInspector": {
   "cols": {
    "lenName": 16,
    "lenType": 16,
    "lenVar": 40
   },
   "kernels_config": {
    "python": {
     "delete_cmd_postfix": "",
     "delete_cmd_prefix": "del ",
     "library": "var_list.py",
     "varRefreshCmd": "print(var_dic_list())"
    },
    "r": {
     "delete_cmd_postfix": ") ",
     "delete_cmd_prefix": "rm(",
     "library": "var_list.r",
     "varRefreshCmd": "cat(var_dic_list()) "
    }
   },
   "types_to_exclude": [
    "module",
    "function",
    "builtin_function_or_method",
    "instance",
    "_Feature"
   ],
   "window_display": false
  }
 },
 "nbformat": 4,
 "nbformat_minor": 4
}
